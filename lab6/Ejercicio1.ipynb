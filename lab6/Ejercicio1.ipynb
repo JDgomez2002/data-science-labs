{
 "cells": [
  {
   "cell_type": "markdown",
   "metadata": {},
   "source": [
    "# Laboratorio 6\n",
    "### Minería de texto\n",
    "- Daniel Gomez 21429\n",
    "- Abner Garcia 21285"
   ]
  },
  {
   "cell_type": "markdown",
   "metadata": {},
   "source": [
    "### Inciso 1\n",
    "Descargue el archivo train.csv"
   ]
  },
  {
   "cell_type": "code",
   "execution_count": 1,
   "metadata": {},
   "outputs": [
    {
     "name": "stderr",
     "output_type": "stream",
     "text": [
      "C:\\Users\\Personal\\AppData\\Local\\Temp\\ipykernel_2764\\1646341236.py:1: DeprecationWarning: \n",
      "Pyarrow will become a required dependency of pandas in the next major release of pandas (pandas 3.0),\n",
      "(to allow more performant data types, such as the Arrow string type, and better interoperability with other libraries)\n",
      "but was not found to be installed on your system.\n",
      "If this would cause problems for you,\n",
      "please provide us feedback at https://github.com/pandas-dev/pandas/issues/54466\n",
      "        \n",
      "  import pandas as pd\n",
      "C:\\Users\\Personal\\AppData\\Roaming\\Python\\Python311\\site-packages\\tqdm\\auto.py:21: TqdmWarning: IProgress not found. Please update jupyter and ipywidgets. See https://ipywidgets.readthedocs.io/en/stable/user_install.html\n",
      "  from .autonotebook import tqdm as notebook_tqdm\n"
     ]
    }
   ],
   "source": [
    "import pandas as pd\n",
    "from ydata_profiling import ProfileReport\n",
    "import pandas as pd\n",
    "import pandas as pd\n",
    "import re\n",
    "import matplotlib.pyplot as plt\n",
    "import seaborn as sns"
   ]
  },
  {
   "cell_type": "markdown",
   "metadata": {},
   "source": [
    "### Inciso 2\n",
    "Cargue los archivos de datos a R o a Python, dependiendo de con qué trabaje."
   ]
  },
  {
   "cell_type": "code",
   "execution_count": 2,
   "metadata": {},
   "outputs": [],
   "source": [
    "train = pd.read_csv('./data/train.csv')"
   ]
  },
  {
   "cell_type": "code",
   "execution_count": 3,
   "metadata": {},
   "outputs": [
    {
     "data": {
      "text/html": [
       "<div>\n",
       "<style scoped>\n",
       "    .dataframe tbody tr th:only-of-type {\n",
       "        vertical-align: middle;\n",
       "    }\n",
       "\n",
       "    .dataframe tbody tr th {\n",
       "        vertical-align: top;\n",
       "    }\n",
       "\n",
       "    .dataframe thead th {\n",
       "        text-align: right;\n",
       "    }\n",
       "</style>\n",
       "<table border=\"1\" class=\"dataframe\">\n",
       "  <thead>\n",
       "    <tr style=\"text-align: right;\">\n",
       "      <th></th>\n",
       "      <th>id</th>\n",
       "      <th>keyword</th>\n",
       "      <th>location</th>\n",
       "      <th>text</th>\n",
       "      <th>target</th>\n",
       "    </tr>\n",
       "  </thead>\n",
       "  <tbody>\n",
       "    <tr>\n",
       "      <th>0</th>\n",
       "      <td>1</td>\n",
       "      <td>NaN</td>\n",
       "      <td>NaN</td>\n",
       "      <td>Our Deeds are the Reason of this #earthquake M...</td>\n",
       "      <td>1</td>\n",
       "    </tr>\n",
       "    <tr>\n",
       "      <th>1</th>\n",
       "      <td>4</td>\n",
       "      <td>NaN</td>\n",
       "      <td>NaN</td>\n",
       "      <td>Forest fire near La Ronge Sask. Canada</td>\n",
       "      <td>1</td>\n",
       "    </tr>\n",
       "    <tr>\n",
       "      <th>2</th>\n",
       "      <td>5</td>\n",
       "      <td>NaN</td>\n",
       "      <td>NaN</td>\n",
       "      <td>All residents asked to 'shelter in place' are ...</td>\n",
       "      <td>1</td>\n",
       "    </tr>\n",
       "    <tr>\n",
       "      <th>3</th>\n",
       "      <td>6</td>\n",
       "      <td>NaN</td>\n",
       "      <td>NaN</td>\n",
       "      <td>13,000 people receive #wildfires evacuation or...</td>\n",
       "      <td>1</td>\n",
       "    </tr>\n",
       "    <tr>\n",
       "      <th>4</th>\n",
       "      <td>7</td>\n",
       "      <td>NaN</td>\n",
       "      <td>NaN</td>\n",
       "      <td>Just got sent this photo from Ruby #Alaska as ...</td>\n",
       "      <td>1</td>\n",
       "    </tr>\n",
       "  </tbody>\n",
       "</table>\n",
       "</div>"
      ],
      "text/plain": [
       "   id keyword location                                               text  \\\n",
       "0   1     NaN      NaN  Our Deeds are the Reason of this #earthquake M...   \n",
       "1   4     NaN      NaN             Forest fire near La Ronge Sask. Canada   \n",
       "2   5     NaN      NaN  All residents asked to 'shelter in place' are ...   \n",
       "3   6     NaN      NaN  13,000 people receive #wildfires evacuation or...   \n",
       "4   7     NaN      NaN  Just got sent this photo from Ruby #Alaska as ...   \n",
       "\n",
       "   target  \n",
       "0       1  \n",
       "1       1  \n",
       "2       1  \n",
       "3       1  \n",
       "4       1  "
      ]
     },
     "execution_count": 3,
     "metadata": {},
     "output_type": "execute_result"
    }
   ],
   "source": [
    "train.head()"
   ]
  },
  {
   "cell_type": "code",
   "execution_count": 4,
   "metadata": {},
   "outputs": [
    {
     "data": {
      "text/html": [
       "<div>\n",
       "<style scoped>\n",
       "    .dataframe tbody tr th:only-of-type {\n",
       "        vertical-align: middle;\n",
       "    }\n",
       "\n",
       "    .dataframe tbody tr th {\n",
       "        vertical-align: top;\n",
       "    }\n",
       "\n",
       "    .dataframe thead th {\n",
       "        text-align: right;\n",
       "    }\n",
       "</style>\n",
       "<table border=\"1\" class=\"dataframe\">\n",
       "  <thead>\n",
       "    <tr style=\"text-align: right;\">\n",
       "      <th></th>\n",
       "      <th>id</th>\n",
       "      <th>target</th>\n",
       "    </tr>\n",
       "  </thead>\n",
       "  <tbody>\n",
       "    <tr>\n",
       "      <th>count</th>\n",
       "      <td>7613.000000</td>\n",
       "      <td>7613.00000</td>\n",
       "    </tr>\n",
       "    <tr>\n",
       "      <th>mean</th>\n",
       "      <td>5441.934848</td>\n",
       "      <td>0.42966</td>\n",
       "    </tr>\n",
       "    <tr>\n",
       "      <th>std</th>\n",
       "      <td>3137.116090</td>\n",
       "      <td>0.49506</td>\n",
       "    </tr>\n",
       "    <tr>\n",
       "      <th>min</th>\n",
       "      <td>1.000000</td>\n",
       "      <td>0.00000</td>\n",
       "    </tr>\n",
       "    <tr>\n",
       "      <th>25%</th>\n",
       "      <td>2734.000000</td>\n",
       "      <td>0.00000</td>\n",
       "    </tr>\n",
       "    <tr>\n",
       "      <th>50%</th>\n",
       "      <td>5408.000000</td>\n",
       "      <td>0.00000</td>\n",
       "    </tr>\n",
       "    <tr>\n",
       "      <th>75%</th>\n",
       "      <td>8146.000000</td>\n",
       "      <td>1.00000</td>\n",
       "    </tr>\n",
       "    <tr>\n",
       "      <th>max</th>\n",
       "      <td>10873.000000</td>\n",
       "      <td>1.00000</td>\n",
       "    </tr>\n",
       "  </tbody>\n",
       "</table>\n",
       "</div>"
      ],
      "text/plain": [
       "                 id      target\n",
       "count   7613.000000  7613.00000\n",
       "mean    5441.934848     0.42966\n",
       "std     3137.116090     0.49506\n",
       "min        1.000000     0.00000\n",
       "25%     2734.000000     0.00000\n",
       "50%     5408.000000     0.00000\n",
       "75%     8146.000000     1.00000\n",
       "max    10873.000000     1.00000"
      ]
     },
     "execution_count": 4,
     "metadata": {},
     "output_type": "execute_result"
    }
   ],
   "source": [
    "train.describe()"
   ]
  },
  {
   "cell_type": "markdown",
   "metadata": {},
   "source": [
    "### Inciso 3\n",
    "Limpie y preprocese los datos. Describa de forma detallada las actividades de preprocesamiento que llevó a cabo.\n",
    "3.1. Se pueden hacer tareas como:\n",
    "- Convertir el texto a mayúsculas o a minúsculas\n",
    "- Quitar los caracteres especiales que aparecen como “#”,”@” o los apóstrofes.\n",
    "- Quitar las url\n",
    "- Revisar si hay emoticones y quitarlos\n",
    "- Quitar los signos de puntuación\n",
    "- Quitar los artículos, preposiciones y conjunciones (stopwords)\n",
    "- Quitar números si considera que interferirá en la clasificación (quizá debería valorar si quitar o no el 911)."
   ]
  },
  {
   "cell_type": "code",
   "execution_count": 5,
   "metadata": {},
   "outputs": [
    {
     "name": "stdout",
     "output_type": "stream",
     "text": [
      "         id keyword location  \\\n",
      "0         1     nan      nan   \n",
      "1         4     nan      nan   \n",
      "2         5     nan      nan   \n",
      "3         6     nan      nan   \n",
      "4         7     nan      nan   \n",
      "...     ...     ...      ...   \n",
      "7608  10869     nan      nan   \n",
      "7609  10870     nan      nan   \n",
      "7610  10871     nan      nan   \n",
      "7611  10872     nan      nan   \n",
      "7612  10873     nan      nan   \n",
      "\n",
      "                                                   text  target  \n",
      "0     our deeds are the reason of this #earthquake m...       1  \n",
      "1                forest fire near la ronge sask. canada       1  \n",
      "2     all residents asked to 'shelter in place' are ...       1  \n",
      "3     13,000 people receive #wildfires evacuation or...       1  \n",
      "4     just got sent this photo from ruby #alaska as ...       1  \n",
      "...                                                 ...     ...  \n",
      "7608  two giant cranes holding a bridge collapse int...       1  \n",
      "7609  @aria_ahrary @thetawniest the out of control w...       1  \n",
      "7610  m1.94 [01:04 utc]?5km s of volcano hawaii. htt...       1  \n",
      "7611  police investigating after an e-bike collided ...       1  \n",
      "7612  the latest: more homes razed by northern calif...       1  \n",
      "\n",
      "[7613 rows x 5 columns]\n"
     ]
    }
   ],
   "source": [
    "# Convertir el texto a minúsculas\n",
    "train = train.apply(lambda x: x.astype(str).str.lower() if x.dtype == \"object\" else x)\n",
    "\n",
    "# imprimir data set\n",
    "print(train)"
   ]
  },
  {
   "cell_type": "markdown",
   "metadata": {},
   "source": [
    "Quitar los caracteres especiales que aparecen como “#”,”@” o los apóstrofes"
   ]
  },
  {
   "cell_type": "code",
   "execution_count": 6,
   "metadata": {},
   "outputs": [
    {
     "name": "stdout",
     "output_type": "stream",
     "text": [
      "         id keyword location  \\\n",
      "0         1     nan      nan   \n",
      "1         4     nan      nan   \n",
      "2         5     nan      nan   \n",
      "3         6     nan      nan   \n",
      "4         7     nan      nan   \n",
      "...     ...     ...      ...   \n",
      "7608  10869     nan      nan   \n",
      "7609  10870     nan      nan   \n",
      "7610  10871     nan      nan   \n",
      "7611  10872     nan      nan   \n",
      "7612  10873     nan      nan   \n",
      "\n",
      "                                                   text  target  \n",
      "0     our deeds are the reason of this earthquake ma...       1  \n",
      "1                 forest fire near la ronge sask canada       1  \n",
      "2     all residents asked to shelter in place are be...       1  \n",
      "3     13000 people receive wildfires evacuation orde...       1  \n",
      "4     just got sent this photo from ruby alaska as s...       1  \n",
      "...                                                 ...     ...  \n",
      "7608  two giant cranes holding a bridge collapse int...       1  \n",
      "7609  ariaahrary thetawniest the out of control wild...       1  \n",
      "7610  m194 0104 utc5km s of volcano hawaii httptcozd...       1  \n",
      "7611  police investigating after an ebike collided w...       1  \n",
      "7612  the latest more homes razed by northern califo...       1  \n",
      "\n",
      "[7613 rows x 5 columns]\n"
     ]
    },
    {
     "name": "stderr",
     "output_type": "stream",
     "text": [
      "C:\\Users\\Personal\\AppData\\Local\\Temp\\ipykernel_2764\\2091921618.py:11: FutureWarning: DataFrame.applymap has been deprecated. Use DataFrame.map instead.\n",
      "  train = train.applymap(clean_text)\n"
     ]
    }
   ],
   "source": [
    "# Quitando los carateres especiales como #, @ o apostrofes\n",
    "def clean_text(text):\n",
    "    if isinstance(text, str):\n",
    "       # eliminando caracteres especiales\n",
    "         cleaned_text = re.sub(r'[^a-zA-Z0-9\\s]', '', text)\n",
    "         return cleaned_text\n",
    "    else:\n",
    "        return text\n",
    "  \n",
    "# Aplicando la función clean_text a la columna text\n",
    "train = train.applymap(clean_text)\n",
    "\n",
    "# imprimir data set\n",
    "print(train)"
   ]
  },
  {
   "cell_type": "markdown",
   "metadata": {},
   "source": [
    "Describiendo los datos para validar que todo haya quedad con el formato correcto."
   ]
  },
  {
   "cell_type": "code",
   "execution_count": 7,
   "metadata": {},
   "outputs": [
    {
     "name": "stdout",
     "output_type": "stream",
     "text": [
      "Estadísticas de longitud de textos:\n",
      " count    7613.000000\n",
      "mean       94.023512\n",
      "std        31.774947\n",
      "min         6.000000\n",
      "25%        71.000000\n",
      "50%        99.000000\n",
      "75%       123.000000\n",
      "max       148.000000\n",
      "Name: tweet_length, dtype: float64\n",
      "\n",
      "Cantidad de categorías únicas en base al texto: 3129\n"
     ]
    }
   ],
   "source": [
    "# Obteneniendo estadísticas sobre las longitudes de los textos en la columna \"keyword\"\n",
    "train['tweet_length'] = train['text'].apply(len)  # Agregando una columna con las longitudes de los textos\n",
    "text_stats = train['tweet_length'].describe()\n",
    "\n",
    "# Obteneniedo la cantidad de categorías únicas en la columna \"location\"\n",
    "location_unique_count = train['location'].nunique()\n",
    "\n",
    "# Imprimiendo las estadísticas de longitud de textos y la cantidad de categorías únicas en la ubicación\n",
    "print(\"Estadísticas de longitud de textos:\\n\", text_stats)\n",
    "print(\"\\nCantidad de categorías únicas en base al texto:\", location_unique_count)"
   ]
  },
  {
   "cell_type": "markdown",
   "metadata": {},
   "source": [
    "Diseñando estadísticas del data set y aplicando palabras más frecuentes en el csv"
   ]
  },
  {
   "cell_type": "code",
   "execution_count": 8,
   "metadata": {},
   "outputs": [
    {
     "name": "stdout",
     "output_type": "stream",
     "text": [
      "Estadísticas de longitud de textos:\n",
      " count    7613.000000\n",
      "mean        8.533824\n",
      "std         3.208316\n",
      "min         3.000000\n",
      "25%         6.000000\n",
      "50%         8.000000\n",
      "75%        10.000000\n",
      "max        20.000000\n",
      "Name: tweet_length, dtype: float64\n",
      "\n",
      "Cantidad de categorías únicas en la ubicación: 3129\n",
      "Estadísticas de longitud de textos:\n",
      " count    7613.000000\n",
      "mean        8.533824\n",
      "std         3.208316\n",
      "min         3.000000\n",
      "25%         6.000000\n",
      "50%         8.000000\n",
      "75%        10.000000\n",
      "max        20.000000\n",
      "Name: tweet_length, dtype: float64\n",
      "\n",
      "Cantidad de categorías únicas en base al texto: 3129\n"
     ]
    },
    {
     "data": {
      "image/png": "[encoded data removed]",
      "text/plain": [
       "<Figure size 1000x600 with 1 Axes>"
      ]
     },
     "metadata": {},
     "output_type": "display_data"
    },
    {
     "data": {
      "image/png": "[encoded data removed]",
      "text/plain": [
       "<Figure size 1000x600 with 1 Axes>"
      ]
     },
     "metadata": {},
     "output_type": "display_data"
    }
   ],
   "source": [
    "%matplotlib inline\n",
    "# Obteneniendo estadísticas sobre las longitudes de los textos en la columna \"keyword\"\n",
    "train['tweet_length'] = train['keyword'].apply(len)  # Agregando una columna con las longitudes de los textos\n",
    "text_stats = train['tweet_length'].describe() # Obteniendo estadísticas sobre las longitudes de los textos en la columna \"keyword\"\n",
    "\n",
    "# Obteneniedo la cantidad de categorías únicas en la columna \"location\"\n",
    "location_unique_count = train['location'].nunique()\n",
    "\n",
    "# Imprimiendo las estadísticas de longitud de textos y la cantidad de categorías únicas en la ubicación\n",
    "print(\"Estadísticas de longitud de textos:\\n\", text_stats)\n",
    "print(\"\\nCantidad de categorías únicas en la ubicación:\", location_unique_count)\n",
    "\n",
    "# Obteneniedo la cantidad de categorías únicas en la columna \"location\"\n",
    "location_unique_count = train['location'].nunique()\n",
    "\n",
    "# Imprimiendo las estadísticas de longitud de textos y la cantidad de categorías únicas en la ubicación\n",
    "print(\"Estadísticas de longitud de textos:\\n\", text_stats)\n",
    "print(\"\\nCantidad de categorías únicas en base al texto:\", location_unique_count)\n",
    "\n",
    "\n",
    "# Gráfico de histograma de longitudes de textos\n",
    "plt.figure(figsize=(10, 6))\n",
    "sns.histplot(train['tweet_length'], bins=30, kde=True)\n",
    "plt.title('Distribución de Longitudes de Textos')\n",
    "plt.xlabel('Longitud de Textos')\n",
    "plt.ylabel('Frecuencia')\n",
    "plt.show()\n",
    "\n",
    "\n",
    "# Calcular la frecuencia de las palabras clave\n",
    "keyword_freq = train['keyword'].value_counts()\n",
    "\n",
    "# Seleccionar las palabras clave más frecuentes.\n",
    "top_keywords = keyword_freq.head(30)\n",
    "\n",
    "# Crear un gráfico de barras de las palabras clave más frecuentes\n",
    "plt.figure(figsize=(10, 6))\n",
    "sns.barplot(x=top_keywords.values, y=top_keywords.index)\n",
    "plt.title('Palabras Clave Más Frecuentes')\n",
    "plt.xlabel('Frecuencia')\n",
    "plt.ylabel('Palabra Clave')\n",
    "plt.tight_layout()\n",
    "plt.show()"
   ]
  },
  {
   "cell_type": "markdown",
   "metadata": {},
   "source": [
    "### Inciso 4\n",
    "Obtenga la frecuencia de las palabras tanto de los tweets de desastres como de los que no. ¿Qué palabras cree que le servirán para hacer un mejor modelo de clasificación?¿Vale la pena explorar bigramas o trigramas para analizar el contexto?"
   ]
  },
  {
   "cell_type": "code",
   "execution_count": 9,
   "metadata": {},
   "outputs": [
    {
     "data": {
      "text/plain": [
       "the                  1362\n",
       "in                   1161\n",
       "of                    927\n",
       "a                     926\n",
       "to                    757\n",
       "                     ... \n",
       "httptco7giglwdmhy       1\n",
       "medic                   1\n",
       "ethereal7               1\n",
       "jeesss                  1\n",
       "httptcoymy4rskq3d       1\n",
       "Name: count, Length: 11848, dtype: int64"
      ]
     },
     "execution_count": 9,
     "metadata": {},
     "output_type": "execute_result"
    }
   ],
   "source": [
    "# Obtener la frecuencia de las palabras en los tweets de desastres\n",
    "disaster_tweets = train[train['target'] == 1]['text']\n",
    "disaster_tweets = disaster_tweets.str.split(expand=True).stack().value_counts()\n",
    "disaster_tweets"
   ]
  },
  {
   "cell_type": "code",
   "execution_count": 10,
   "metadata": {},
   "outputs": [
    {
     "data": {
      "text/plain": [
       "the                   1909\n",
       "a                     1257\n",
       "to                    1189\n",
       "i                     1078\n",
       "and                    918\n",
       "                      ... \n",
       "electro                  1\n",
       "violin                   1\n",
       "psalm3422                1\n",
       "joshacagan               1\n",
       "httpstcotfgrayudc5       1\n",
       "Name: count, Length: 14623, dtype: int64"
      ]
     },
     "execution_count": 10,
     "metadata": {},
     "output_type": "execute_result"
    }
   ],
   "source": [
    "# Obtener la frecuencia de las palabras en los tweets que no son de desastres\n",
    "non_disaster_tweets = train[train['target'] == 0]['text']\n",
    "non_disaster_tweets = non_disaster_tweets.str.split(expand=True).stack().value_counts()\n",
    "non_disaster_tweets"
   ]
  },
  {
   "cell_type": "markdown",
   "metadata": {},
   "source": [
    "### Inciso 5\n",
    "Haga un análisis exploratorio de los datos para entenderlos mejor, documente todos los análisis"
   ]
  },
  {
   "cell_type": "code",
   "execution_count": 11,
   "metadata": {},
   "outputs": [
    {
     "name": "stderr",
     "output_type": "stream",
     "text": [
      "Summarize dataset: 100%|██████████| 16/16 [00:02<00:00,  6.65it/s, Completed]                \n",
      "Generate report structure: 100%|██████████| 1/1 [00:04<00:00,  4.30s/it]\n",
      "Render HTML: 100%|██████████| 1/1 [00:00<00:00,  1.42it/s]\n",
      "Export report to file: 100%|██████████| 1/1 [00:00<00:00, 220.95it/s]\n"
     ]
    }
   ],
   "source": [
    "train = pd.read_csv('./data/train.csv')\n",
    "analysis = ProfileReport(train)\n",
    "analysis.to_file('analysis.html')"
   ]
  }
 ],
 "metadata": {
  "kernelspec": {
   "display_name": "Python 3",
   "language": "python",
   "name": "python3"
  },
  "language_info": {
   "codemirror_mode": {
    "name": "ipython",
    "version": 3
   },
   "file_extension": ".py",
   "mimetype": "text/x-python",
   "name": "python",
   "nbconvert_exporter": "python",
   "pygments_lexer": "ipython3",
   "version": "3.11.0"
  }
 },
 "nbformat": 4,
 "nbformat_minor": 2
}
