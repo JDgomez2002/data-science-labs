{
 "cells": [
  {
   "cell_type": "markdown",
   "metadata": {},
   "source": [
    "# Laboratorio 2\n",
    "### Data science - Lynette Garcia\n",
    "Daniel Gomez 21429\n",
    "Abner Garcia 21285"
   ]
  },
  {
   "cell_type": "code",
   "execution_count": 56,
   "metadata": {},
   "outputs": [],
   "source": [
    "import pandas as pd\n",
    "from ydata_profiling import ProfileReport\n",
    "import matplotlib.pyplot as plt\n",
    "import seaborn as sns\n",
    "from statsmodels.tsa.seasonal import seasonal_decompose\n",
    "from statsmodels.tsa.stattools import adfuller\n",
    "from statsmodels.graphics.tsaplots import plot_acf, plot_pacf\n",
    "from statsmodels.tsa.arima.model import ARIMA\n",
    "from sklearn.metrics import mean_squared_error"
   ]
  },
  {
   "cell_type": "code",
   "execution_count": 57,
   "metadata": {},
   "outputs": [],
   "source": [
    "gas = pd.read_csv('gas.csv')\n",
    "\n",
    "# Seleccionar las columnas relevantes\n",
    "columns_of_interest = ['Gasolina regular', 'Gasolina superior', 'Diesel bajo azufre', 'Gas licuado de petróleo']\n",
    "data = gas[columns_of_interest]"
   ]
  },
  {
   "cell_type": "code",
   "execution_count": 58,
   "metadata": {},
   "outputs": [
    {
     "data": {
      "text/html": [
       "<div>\n",
       "<style scoped>\n",
       "    .dataframe tbody tr th:only-of-type {\n",
       "        vertical-align: middle;\n",
       "    }\n",
       "\n",
       "    .dataframe tbody tr th {\n",
       "        vertical-align: top;\n",
       "    }\n",
       "\n",
       "    .dataframe thead th {\n",
       "        text-align: right;\n",
       "    }\n",
       "</style>\n",
       "<table border=\"1\" class=\"dataframe\">\n",
       "  <thead>\n",
       "    <tr style=\"text-align: right;\">\n",
       "      <th></th>\n",
       "      <th>Gasolina regular</th>\n",
       "      <th>Gasolina superior</th>\n",
       "      <th>Diesel bajo azufre</th>\n",
       "      <th>Gas licuado de petróleo</th>\n",
       "    </tr>\n",
       "  </thead>\n",
       "  <tbody>\n",
       "    <tr>\n",
       "      <th>0</th>\n",
       "      <td>177.776,50</td>\n",
       "      <td>373.963,96</td>\n",
       "      <td>0,00</td>\n",
       "      <td>194.065,74</td>\n",
       "    </tr>\n",
       "    <tr>\n",
       "      <th>1</th>\n",
       "      <td>123.115,99</td>\n",
       "      <td>243.091,07</td>\n",
       "      <td>0,00</td>\n",
       "      <td>170.703,38</td>\n",
       "    </tr>\n",
       "    <tr>\n",
       "      <th>2</th>\n",
       "      <td>161.726,42</td>\n",
       "      <td>312.084,38</td>\n",
       "      <td>0,00</td>\n",
       "      <td>161.837,37</td>\n",
       "    </tr>\n",
       "    <tr>\n",
       "      <th>3</th>\n",
       "      <td>127.338,74</td>\n",
       "      <td>285.054,89</td>\n",
       "      <td>0,00</td>\n",
       "      <td>163.048,64</td>\n",
       "    </tr>\n",
       "    <tr>\n",
       "      <th>4</th>\n",
       "      <td>168.730,19</td>\n",
       "      <td>300.913,67</td>\n",
       "      <td>0,00</td>\n",
       "      <td>171.518,86</td>\n",
       "    </tr>\n",
       "  </tbody>\n",
       "</table>\n",
       "</div>"
      ],
      "text/plain": [
       "  Gasolina regular Gasolina superior Diesel bajo azufre  \\\n",
       "0       177.776,50        373.963,96               0,00   \n",
       "1       123.115,99        243.091,07               0,00   \n",
       "2       161.726,42        312.084,38               0,00   \n",
       "3       127.338,74        285.054,89               0,00   \n",
       "4       168.730,19        300.913,67               0,00   \n",
       "\n",
       "  Gas licuado de petróleo  \n",
       "0              194.065,74  \n",
       "1              170.703,38  \n",
       "2              161.837,37  \n",
       "3              163.048,64  \n",
       "4              171.518,86  "
      ]
     },
     "execution_count": 58,
     "metadata": {},
     "output_type": "execute_result"
    }
   ],
   "source": [
    "data.head()"
   ]
  },
  {
   "cell_type": "code",
   "execution_count": 59,
   "metadata": {},
   "outputs": [
    {
     "data": {
      "text/html": [
       "<div>\n",
       "<style scoped>\n",
       "    .dataframe tbody tr th:only-of-type {\n",
       "        vertical-align: middle;\n",
       "    }\n",
       "\n",
       "    .dataframe tbody tr th {\n",
       "        vertical-align: top;\n",
       "    }\n",
       "\n",
       "    .dataframe thead th {\n",
       "        text-align: right;\n",
       "    }\n",
       "</style>\n",
       "<table border=\"1\" class=\"dataframe\">\n",
       "  <thead>\n",
       "    <tr style=\"text-align: right;\">\n",
       "      <th></th>\n",
       "      <th>Gasolina regular</th>\n",
       "      <th>Gasolina superior</th>\n",
       "      <th>Diesel bajo azufre</th>\n",
       "      <th>Gas licuado de petróleo</th>\n",
       "    </tr>\n",
       "  </thead>\n",
       "  <tbody>\n",
       "    <tr>\n",
       "      <th>count</th>\n",
       "      <td>281</td>\n",
       "      <td>281</td>\n",
       "      <td>281</td>\n",
       "      <td>281</td>\n",
       "    </tr>\n",
       "    <tr>\n",
       "      <th>unique</th>\n",
       "      <td>281</td>\n",
       "      <td>281</td>\n",
       "      <td>78</td>\n",
       "      <td>281</td>\n",
       "    </tr>\n",
       "    <tr>\n",
       "      <th>top</th>\n",
       "      <td>177.776,50</td>\n",
       "      <td>373.963,96</td>\n",
       "      <td>0,00</td>\n",
       "      <td>194.065,74</td>\n",
       "    </tr>\n",
       "    <tr>\n",
       "      <th>freq</th>\n",
       "      <td>1</td>\n",
       "      <td>1</td>\n",
       "      <td>204</td>\n",
       "      <td>1</td>\n",
       "    </tr>\n",
       "  </tbody>\n",
       "</table>\n",
       "</div>"
      ],
      "text/plain": [
       "       Gasolina regular Gasolina superior Diesel bajo azufre  \\\n",
       "count               281               281                281   \n",
       "unique              281               281                 78   \n",
       "top          177.776,50        373.963,96               0,00   \n",
       "freq                  1                 1                204   \n",
       "\n",
       "       Gas licuado de petróleo  \n",
       "count                      281  \n",
       "unique                     281  \n",
       "top                 194.065,74  \n",
       "freq                         1  "
      ]
     },
     "execution_count": 59,
     "metadata": {},
     "output_type": "execute_result"
    }
   ],
   "source": [
    "data.describe()"
   ]
  },
  {
   "cell_type": "code",
   "execution_count": 60,
   "metadata": {},
   "outputs": [
    {
     "name": "stderr",
     "output_type": "stream",
     "text": [
      "C:\\Users\\Personal\\AppData\\Roaming\\Python\\Python311\\site-packages\\ydata_profiling\\utils\\dataframe.py:137: SettingWithCopyWarning: \n",
      "A value is trying to be set on a copy of a slice from a DataFrame\n",
      "\n",
      "See the caveats in the documentation: https://pandas.pydata.org/pandas-docs/stable/user_guide/indexing.html#returning-a-view-versus-a-copy\n",
      "  df.rename(columns={\"index\": \"df_index\"}, inplace=True)\n",
      "Summarize dataset: 100%|██████████| 14/14 [00:00<00:00, 20.66it/s, Completed]                              \n",
      "Generate report structure: 100%|██████████| 1/1 [00:03<00:00,  3.30s/it]\n",
      "Render HTML: 100%|██████████| 1/1 [00:00<00:00,  2.66it/s]\n",
      "Export report to file: 100%|██████████| 1/1 [00:00<00:00, 124.90it/s]\n"
     ]
    }
   ],
   "source": [
    "analysis = ProfileReport(data)\n",
    "analysis.to_file('gas_analysis.html')"
   ]
  },
  {
   "cell_type": "code",
   "execution_count": 61,
   "metadata": {},
   "outputs": [
    {
     "name": "stdout",
     "output_type": "stream",
     "text": [
      "<class 'pandas.core.frame.DataFrame'>\n",
      "RangeIndex: 284 entries, 0 to 283\n",
      "Data columns (total 4 columns):\n",
      " #   Column                   Non-Null Count  Dtype \n",
      "---  ------                   --------------  ----- \n",
      " 0   Gasolina regular         281 non-null    object\n",
      " 1   Gasolina superior        281 non-null    object\n",
      " 2   Diesel bajo azufre       281 non-null    object\n",
      " 3   Gas licuado de petróleo  281 non-null    object\n",
      "dtypes: object(4)\n",
      "memory usage: 9.0+ KB\n"
     ]
    }
   ],
   "source": [
    "data.info()"
   ]
  },
  {
   "cell_type": "code",
   "execution_count": null,
   "metadata": {},
   "outputs": [],
   "source": []
  }
 ],
 "metadata": {
  "kernelspec": {
   "display_name": "Python 3",
   "language": "python",
   "name": "python3"
  },
  "language_info": {
   "codemirror_mode": {
    "name": "ipython",
    "version": 3
   },
   "file_extension": ".py",
   "mimetype": "text/x-python",
   "name": "python",
   "nbconvert_exporter": "python",
   "pygments_lexer": "ipython3",
   "version": "3.11.0"
  }
 },
 "nbformat": 4,
 "nbformat_minor": 2
}
